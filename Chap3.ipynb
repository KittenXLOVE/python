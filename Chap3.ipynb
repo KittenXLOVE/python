{
  "nbformat": 4,
  "nbformat_minor": 0,
  "metadata": {
    "colab": {
      "name": "Chap3.ipynb",
      "provenance": [],
      "collapsed_sections": []
    },
    "kernelspec": {
      "name": "python3",
      "display_name": "Python 3"
    },
    "language_info": {
      "name": "python"
    }
  },
  "cells": [
    {
      "cell_type": "markdown",
      "metadata": {
        "id": "1oOZAjMDARh3"
      },
      "source": [
        "# 商用程式設計\n",
        "## 2021/03/26\n",
        "# Chap 3 Python物件\n",
        "## List[串列] Tuple(元組) Dictionary{字典} Sets{集合}"
      ]
    },
    {
      "cell_type": "markdown",
      "metadata": {
        "id": "XpJbNdKHJlYj"
      },
      "source": [
        "### List[串列]"
      ]
    },
    {
      "cell_type": "markdown",
      "metadata": {
        "id": "nyGFR6FhI7DH"
      },
      "source": [
        "#### sum(List) 取得串列各值的加總值"
      ]
    },
    {
      "cell_type": "code",
      "metadata": {
        "colab": {
          "base_uri": "https://localhost:8080/"
        },
        "id": "DRAOL2SgAKgl",
        "outputId": "8af60182-3a8e-4bbc-9945-a2507ce549bb"
      },
      "source": [
        "a = [123,456,789,12,345,678,901,234,567,890]\n",
        "print(sum(a))"
      ],
      "execution_count": null,
      "outputs": [
        {
          "output_type": "stream",
          "text": [
            "4995\n"
          ],
          "name": "stdout"
        }
      ]
    },
    {
      "cell_type": "markdown",
      "metadata": {
        "id": "pcutObbUKo6l"
      },
      "source": [
        "#### Index(索引值)\n",
        "#### List[X]，X表示其索引值\n",
        "#### 索引值由左至右，從0開始\n",
        "#### 當索引值為負數時，將從最後一項往回數\n",
        "#### 無論正數或負數，索引值皆不可超過該串列的資料數量"
      ]
    },
    {
      "cell_type": "code",
      "metadata": {
        "colab": {
          "base_uri": "https://localhost:8080/"
        },
        "id": "ynqBiZpFCPle",
        "outputId": "80411649-fa0e-43f0-e9a8-add318ead872"
      },
      "source": [
        "a = ['apple','bee','circle','died','eight','five','good']\n",
        "print(a[2]) #index 2\n",
        "print(a[1]) #index 1\n",
        "print(a[0]) #index 0\n",
        "print(a[-1]) #index -1 = index Last\n",
        "print(a[-2]) #index -2 = index Last-1"
      ],
      "execution_count": null,
      "outputs": [
        {
          "output_type": "stream",
          "text": [
            "circle\n",
            "bee\n",
            "apple\n",
            "good\n",
            "five\n"
          ],
          "name": "stdout"
        }
      ]
    },
    {
      "cell_type": "markdown",
      "metadata": {
        "id": "_6j8YklWMI6K"
      },
      "source": [
        "#### 空串列\n",
        "#### 使用[]或list()，即表示空串列"
      ]
    },
    {
      "cell_type": "code",
      "metadata": {
        "id": "DraK6j9FFHMV",
        "colab": {
          "base_uri": "https://localhost:8080/"
        },
        "outputId": "3b97d2ed-a3aa-4e84-8e96-1c4aa55768dc"
      },
      "source": [
        "a = [] #空串列\n",
        "b = list() #空串列\n",
        "c = ['A','B','C']\n",
        "print(c[1])"
      ],
      "execution_count": null,
      "outputs": [
        {
          "output_type": "stream",
          "text": [
            "B\n"
          ],
          "name": "stdout"
        }
      ]
    },
    {
      "cell_type": "markdown",
      "metadata": {
        "id": "Sq69lutwMU_b"
      },
      "source": [
        "#### 串列長度\n",
        "#### len(X) 取得串列X的長度"
      ]
    },
    {
      "cell_type": "code",
      "metadata": {
        "colab": {
          "base_uri": "https://localhost:8080/"
        },
        "id": "ARoYrm5HMnQ8",
        "outputId": "84235e9f-651b-4060-c53d-5d884f914a7b"
      },
      "source": [
        "a = []\n",
        "b = list()\n",
        "c = ['A','B','C']\n",
        "print(len(a))\n",
        "print(len(b))\n",
        "print(len(c))"
      ],
      "execution_count": null,
      "outputs": [
        {
          "output_type": "stream",
          "text": [
            "0\n",
            "0\n",
            "3\n"
          ],
          "name": "stdout"
        }
      ]
    },
    {
      "cell_type": "markdown",
      "metadata": {
        "id": "oUjpHbSTOgMI"
      },
      "source": [
        "#### Add(附加)\n",
        "#### List.Append(x) 加入資料x到尾巴\n",
        "#### List.Insert(y,x) 加入資料x到位置(索引值)y"
      ]
    },
    {
      "cell_type": "code",
      "metadata": {
        "colab": {
          "base_uri": "https://localhost:8080/"
        },
        "id": "yXEBZ_iUGTHg",
        "outputId": "0e9f0feb-7acf-4070-d958-c995b5c068ab"
      },
      "source": [
        "a = ['A','B','C']\n",
        "a.append('D')\n",
        "print(a)\n",
        "a.insert(0,'E')\n",
        "print(a)"
      ],
      "execution_count": null,
      "outputs": [
        {
          "output_type": "stream",
          "text": [
            "['A', 'B', 'C', 'D']\n",
            "['E', 'A', 'B', 'C', 'D']\n"
          ],
          "name": "stdout"
        }
      ]
    },
    {
      "cell_type": "markdown",
      "metadata": {
        "id": "qiACWZIMQd16"
      },
      "source": [
        "#### Remove(刪除)\n",
        "#### List.Remove(x) 刪除資料x\n",
        "#### del List[x] 刪除位置(索引值)x的資料\n",
        "#### List.Clear() 清除所有資料"
      ]
    },
    {
      "cell_type": "code",
      "metadata": {
        "colab": {
          "base_uri": "https://localhost:8080/"
        },
        "id": "lcGBDoElOd7g",
        "outputId": "c4ec17aa-43f8-42ac-e806-c289ad3ef553"
      },
      "source": [
        "a = ['E','A','B','C','D']\n",
        "a.remove('B')\n",
        "print(a)\n",
        "del a[-1]\n",
        "print(a)\n",
        "a.clear()\n",
        "print(a)"
      ],
      "execution_count": null,
      "outputs": [
        {
          "output_type": "stream",
          "text": [
            "['E', 'A', 'C', 'D']\n",
            "['E', 'A', 'C']\n",
            "[]\n"
          ],
          "name": "stdout"
        }
      ]
    },
    {
      "cell_type": "markdown",
      "metadata": {
        "id": "7oqW5GCdPRHu"
      },
      "source": [
        "#### 串列重複輸出"
      ]
    },
    {
      "cell_type": "code",
      "metadata": {
        "colab": {
          "base_uri": "https://localhost:8080/"
        },
        "id": "zYBXQXHZPyD3",
        "outputId": "0fdebc74-d35a-45b6-8153-f5e9daff5b74"
      },
      "source": [
        "a = ['A','B','C']\n",
        "print(a*4)"
      ],
      "execution_count": null,
      "outputs": [
        {
          "output_type": "stream",
          "text": [
            "['A', 'B', 'C', 'A', 'B', 'C', 'A', 'B', 'C', 'A', 'B', 'C']\n"
          ],
          "name": "stdout"
        }
      ]
    },
    {
      "cell_type": "markdown",
      "metadata": {
        "id": "tFRN8M82UAZo"
      },
      "source": [
        "#### 範圍取值\n",
        "#### List[x:y] 取位置x~(y-1)\n",
        "#### List[x:y:z] 同上，但每z個取一次\n",
        "#### List[:] 全部選取"
      ]
    },
    {
      "cell_type": "code",
      "metadata": {
        "colab": {
          "base_uri": "https://localhost:8080/"
        },
        "id": "4bN07p5uQb2C",
        "outputId": "a9b944ff-e285-431a-b126-307e82864d9d"
      },
      "source": [
        "a = ['A','B','C','D','E','F','G','H','I','J','K']\n",
        "b = a[0:4] #取0~4的值\n",
        "c = a[0:12:2] #取0~12的值，每兩個取一個\n",
        "d = a[:] #取全部值\n",
        "print(b)\n",
        "print(c)\n",
        "print(d)"
      ],
      "execution_count": null,
      "outputs": [
        {
          "output_type": "stream",
          "text": [
            "['A', 'B', 'C', 'D']\n",
            "['A', 'C', 'E', 'G', 'I', 'K']\n",
            "['A', 'B', 'C', 'D', 'E', 'F', 'G', 'H', 'I', 'J', 'K']\n"
          ],
          "name": "stdout"
        }
      ]
    },
    {
      "cell_type": "markdown",
      "metadata": {
        "id": "VsjhsEQqRann"
      },
      "source": [
        "#### max(List) 取得串列的最大值\n",
        "#### min(List) 取得串列的最小值"
      ]
    },
    {
      "cell_type": "markdown",
      "metadata": {
        "id": "Qtd9YFfTbS2e"
      },
      "source": [
        "#### List.Count(x) 計算資料x的存在筆數\n",
        "#### List.Index(x) 找出資料x第一次出現的位置(索引值)\n",
        "#### List.Reverse() 反轉\n",
        "#### List.Sort() 排序(由小至大)"
      ]
    },
    {
      "cell_type": "code",
      "metadata": {
        "colab": {
          "base_uri": "https://localhost:8080/"
        },
        "id": "rdBWz0FaT2vW",
        "outputId": "5c78681e-de73-497c-caff-830af583175d"
      },
      "source": [
        "a = [1,1,1,2,3,3,4,5,6]\n",
        "print(a.count(1))\n",
        "print(a.index(3))\n",
        "a.reverse()\n",
        "print(a)\n",
        "a.sort()\n",
        "print(a)"
      ],
      "execution_count": null,
      "outputs": [
        {
          "output_type": "stream",
          "text": [
            "3\n",
            "4\n",
            "[6, 5, 4, 3, 3, 2, 1, 1, 1]\n",
            "[1, 1, 1, 2, 3, 3, 4, 5, 6]\n"
          ],
          "name": "stdout"
        }
      ]
    },
    {
      "cell_type": "markdown",
      "metadata": {
        "id": "FaVDaztFfQ0_"
      },
      "source": [
        "#### Sorted(x) 回傳串列x排序後之結果"
      ]
    },
    {
      "cell_type": "code",
      "metadata": {
        "colab": {
          "base_uri": "https://localhost:8080/"
        },
        "id": "mZ3MONfObCJi",
        "outputId": "ac722249-c2dd-478a-de62-39ebae9b8827"
      },
      "source": [
        "a = [3,8,5,1,2,6,7]\n",
        "b = sorted(a) #串列a不會被改變\n",
        "print(a)\n",
        "print(b)"
      ],
      "execution_count": null,
      "outputs": [
        {
          "output_type": "stream",
          "text": [
            "[3, 8, 5, 1, 2, 6, 7]\n",
            "[1, 2, 3, 5, 6, 7, 8]\n"
          ],
          "name": "stdout"
        }
      ]
    }
  ]
}