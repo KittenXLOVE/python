{
  "nbformat": 4,
  "nbformat_minor": 0,
  "metadata": {
    "kernelspec": {
      "display_name": "Python 3",
      "language": "python",
      "name": "python3"
    },
    "language_info": {
      "codemirror_mode": {
        "name": "ipython",
        "version": 3
      },
      "file_extension": ".py",
      "mimetype": "text/x-python",
      "name": "python",
      "nbconvert_exporter": "python",
      "pygments_lexer": "ipython3",
      "version": "3.8.5"
    },
    "colab": {
      "name": "Chap1.ipynb",
      "provenance": [],
      "collapsed_sections": []
    }
  },
  "cells": [
    {
      "cell_type": "markdown",
      "metadata": {
        "id": "LqDQKwhIUiwB"
      },
      "source": [
        "# 商用程式設計\n",
        "## 2021/03/05\n",
        "# Chap 1 運算式、變數與資料型別"
      ]
    },
    {
      "cell_type": "code",
      "metadata": {
        "colab": {
          "base_uri": "https://localhost:8080/"
        },
        "id": "uhcak22HUiwL",
        "outputId": "fd5a1eb1-dfa8-4a36-a40b-f2d09c27c01c"
      },
      "source": [
        "#單行註解\n",
        "'''\n",
        "多行註解\n",
        "'''\n",
        "a=2\n",
        "b=5\n",
        "a+b"
      ],
      "execution_count": null,
      "outputs": [
        {
          "output_type": "execute_result",
          "data": {
            "text/plain": [
              "7"
            ]
          },
          "metadata": {
            "tags": []
          },
          "execution_count": 1
        }
      ]
    },
    {
      "cell_type": "markdown",
      "metadata": {
        "id": "QJAbHBU3UiwN"
      },
      "source": [
        "## 變數交換"
      ]
    },
    {
      "cell_type": "markdown",
      "metadata": {
        "id": "zn5f4vBnWWu2"
      },
      "source": [
        "### Plan A\n",
        "#### 使用臨時的變數"
      ]
    },
    {
      "cell_type": "code",
      "metadata": {
        "colab": {
          "base_uri": "https://localhost:8080/"
        },
        "id": "x3PPoTWTUiwN",
        "outputId": "92f6935e-cd48-4847-d9d8-6632539ff87d"
      },
      "source": [
        "a=2\n",
        "b=5\n",
        "print(a,b)\n",
        "\n",
        "temp=a\n",
        "a=b\n",
        "b=temp\n",
        "print(a,b)"
      ],
      "execution_count": null,
      "outputs": [
        {
          "output_type": "stream",
          "text": [
            "2 5\n",
            "5 2\n"
          ],
          "name": "stdout"
        }
      ]
    },
    {
      "cell_type": "markdown",
      "metadata": {
        "id": "-uIBTFzZWyl5"
      },
      "source": [
        "### Plan B\n",
        "#### 使用數學方法"
      ]
    },
    {
      "cell_type": "code",
      "metadata": {
        "colab": {
          "base_uri": "https://localhost:8080/"
        },
        "id": "HNRAtpzPWl53",
        "outputId": "1f124f92-6d31-4acb-83cc-0c6764218453"
      },
      "source": [
        "a=2\n",
        "b=5\n",
        "print(a,b)\n",
        "\n",
        "a=a+b\n",
        "b=a-b\n",
        "a=a-b\n",
        "print(a,b)"
      ],
      "execution_count": null,
      "outputs": [
        {
          "output_type": "stream",
          "text": [
            "2 5\n",
            "5 2\n"
          ],
          "name": "stdout"
        }
      ]
    },
    {
      "cell_type": "markdown",
      "metadata": {
        "id": "TcQob6mgW8xC"
      },
      "source": [
        "### Plan C\n",
        "#### 使用Python特殊語法"
      ]
    },
    {
      "cell_type": "code",
      "metadata": {
        "colab": {
          "base_uri": "https://localhost:8080/"
        },
        "id": "5Mpwwxf1WruC",
        "outputId": "67e6febf-2319-4b01-a608-e24673a75560"
      },
      "source": [
        "a=2\n",
        "b=5\n",
        "print(a,b)\n",
        "\n",
        "a,b=b,a\n",
        "print(a,b)"
      ],
      "execution_count": null,
      "outputs": [
        {
          "output_type": "stream",
          "text": [
            "2 5\n",
            "5 2\n"
          ],
          "name": "stdout"
        }
      ]
    },
    {
      "cell_type": "markdown",
      "metadata": {
        "id": "NAEHiKUZUiwO"
      },
      "source": [
        "##變數平行設定\n",
        "\n"
      ]
    },
    {
      "cell_type": "code",
      "metadata": {
        "colab": {
          "base_uri": "https://localhost:8080/"
        },
        "id": "I2WCORRaUiwO",
        "outputId": "8e96ac0e-75f3-4c17-99af-3044b7002fbd"
      },
      "source": [
        "a,b,c=3,6,9\n",
        "a+b+c"
      ],
      "execution_count": null,
      "outputs": [
        {
          "output_type": "execute_result",
          "data": {
            "text/plain": [
              "18"
            ]
          },
          "metadata": {
            "tags": []
          },
          "execution_count": 5
        }
      ]
    },
    {
      "cell_type": "markdown",
      "metadata": {
        "id": "GK8nce32UiwP"
      },
      "source": [
        "## 變數簡化運算"
      ]
    },
    {
      "cell_type": "code",
      "metadata": {
        "colab": {
          "base_uri": "https://localhost:8080/"
        },
        "id": "gKCuysZ_UiwP",
        "outputId": "8b126fd4-4811-4430-e900-fe8f1018b0f3"
      },
      "source": [
        "a,b,c=2,4,6\n",
        "\n",
        "a**=3 # a=a^3\n",
        "b*=2 # b=b*2\n",
        "c+=2 # c=c+2\n",
        "\n",
        "print(a,b,c)"
      ],
      "execution_count": null,
      "outputs": [
        {
          "output_type": "stream",
          "text": [
            "8 8 8\n"
          ],
          "name": "stdout"
        }
      ]
    },
    {
      "cell_type": "markdown",
      "metadata": {
        "id": "ZZaXMDWsUiwP"
      },
      "source": [
        "## 變數應用\n",
        "### math 數學函式庫\n",
        "### Q.設一三角形，邊長各為３、４、５，求其面積？\n",
        "#### 海龍公式\n",
        "##### s=周長/2, 面積平方=s*(s-a)+s*(s-b)+s*(s-c)"
      ]
    },
    {
      "cell_type": "code",
      "metadata": {
        "colab": {
          "base_uri": "https://localhost:8080/"
        },
        "id": "5tkuZPY5UiwQ",
        "outputId": "dd6e0512-0e5f-460b-a25f-913d5e79a93e"
      },
      "source": [
        "import math\n",
        "\n",
        "a,b,c=3,4,5\n",
        "s= (a+b+c)/2\n",
        "math.sqrt(s*(s-a)+s*(s-b)+s*(s-c))"
      ],
      "execution_count": null,
      "outputs": [
        {
          "output_type": "execute_result",
          "data": {
            "text/plain": [
              "6.0"
            ]
          },
          "metadata": {
            "tags": []
          },
          "execution_count": 7
        }
      ]
    },
    {
      "cell_type": "markdown",
      "metadata": {
        "id": "ewjhlvgRUiwQ"
      },
      "source": [
        "### Q.設一圓形，半徑為10，求其面積？\n",
        "#### 面積=半徑*半徑 *PI\n",
        "#### math.pi PI值3.1415926......"
      ]
    },
    {
      "cell_type": "code",
      "metadata": {
        "colab": {
          "base_uri": "https://localhost:8080/"
        },
        "id": "wHt_MiYWUiwR",
        "outputId": "38e73a97-216d-45ed-9e9b-9e2962725400"
      },
      "source": [
        "import math\n",
        "\n",
        "r=5\n",
        "r*r*math.pi"
      ],
      "execution_count": null,
      "outputs": [
        {
          "output_type": "execute_result",
          "data": {
            "text/plain": [
              "78.53981633974483"
            ]
          },
          "metadata": {
            "tags": []
          },
          "execution_count": 8
        }
      ]
    },
    {
      "cell_type": "markdown",
      "metadata": {
        "id": "EKKGRefdZcgB"
      },
      "source": [
        "# 商用程式設計\n",
        "## 2021/03/12"
      ]
    },
    {
      "cell_type": "markdown",
      "metadata": {
        "id": "i6a20_KtZnGh"
      },
      "source": [
        "### 資料型別\n",
        "####type(X)\n",
        "##### 取得變數X的資料型別"
      ]
    },
    {
      "cell_type": "code",
      "metadata": {
        "colab": {
          "base_uri": "https://localhost:8080/"
        },
        "id": "1tpl8c6oZs_Y",
        "outputId": "9b63d8c2-03aa-4246-9d3d-4d970075754e"
      },
      "source": [
        "a=123\n",
        "b=123.45\n",
        "c=\"123.45\"\n",
        "print(type(a))\n",
        "print(type(b))\n",
        "print(type(c))"
      ],
      "execution_count": null,
      "outputs": [
        {
          "output_type": "stream",
          "text": [
            "<class 'int'>\n",
            "<class 'float'>\n",
            "<class 'str'>\n"
          ],
          "name": "stdout"
        }
      ]
    },
    {
      "cell_type": "markdown",
      "metadata": {
        "id": "2AsJgu-waGDF"
      },
      "source": [
        "### 運算子"
      ]
    },
    {
      "cell_type": "code",
      "metadata": {
        "colab": {
          "base_uri": "https://localhost:8080/"
        },
        "id": "_i4M6XicaHsW",
        "outputId": "578ac6ab-711b-46b2-eb08-7e34a8f2a8f4"
      },
      "source": [
        "a,b=17,6\n",
        "\n",
        "print(a/b) #a/b\n",
        "print(a//b) #a/b之商數\n",
        "print(a%b) #a/b之餘數"
      ],
      "execution_count": null,
      "outputs": [
        {
          "output_type": "stream",
          "text": [
            "2.8333333333333335\n",
            "2\n",
            "5\n"
          ],
          "name": "stdout"
        }
      ]
    },
    {
      "cell_type": "markdown",
      "metadata": {
        "id": "XGx_iq-Napna"
      },
      "source": [
        "### 數字的準確性\n",
        "#### 3.1415926 > 3.14"
      ]
    },
    {
      "cell_type": "code",
      "metadata": {
        "colab": {
          "base_uri": "https://localhost:8080/"
        },
        "id": "xn8BiseCawgb",
        "outputId": "e0c39c09-1b90-49f6-d9df-e36e0f093b72"
      },
      "source": [
        "pi=3.1415926\n",
        "print(pi-3.14)"
      ],
      "execution_count": null,
      "outputs": [
        {
          "output_type": "stream",
          "text": [
            "0.001592599999999944\n"
          ],
          "name": "stdout"
        }
      ]
    },
    {
      "cell_type": "markdown",
      "metadata": {
        "id": "ZhuV0zcgbO33"
      },
      "source": [
        "### 判斷式"
      ]
    },
    {
      "cell_type": "code",
      "metadata": {
        "colab": {
          "base_uri": "https://localhost:8080/"
        },
        "id": "tzOrki_cbSJ4",
        "outputId": "9e83c928-8c57-42be-db96-17b81231c07d"
      },
      "source": [
        "a,b = 2,3\n",
        "\n",
        "print(2==3) #不符\n",
        "print(a==b) #不符\n",
        "print(a!=b) #相符"
      ],
      "execution_count": null,
      "outputs": [
        {
          "output_type": "stream",
          "text": [
            "False\n",
            "False\n",
            "True\n"
          ],
          "name": "stdout"
        }
      ]
    },
    {
      "cell_type": "markdown",
      "metadata": {
        "id": "JMlcbMJUEZPK"
      },
      "source": [
        "### 閏年判別\n",
        "#### 多個條件時，可依需求使用及(and)、或(or)"
      ]
    },
    {
      "cell_type": "code",
      "metadata": {
        "colab": {
          "base_uri": "https://localhost:8080/"
        },
        "id": "EGQsbInzEavu",
        "outputId": "aef3df5d-2e2e-4fd5-ef2e-c7b3a8de4d6b"
      },
      "source": [
        "year=2000\n",
        "print(year%4==0 and year%100!=0 or year%400==0)\n",
        "year=2001\n",
        "print(year%4==0 and year%100!=0 or year%400==0)\n",
        "year=2004\n",
        "print(year%4==0 and year%100!=0 or year%400==0)"
      ],
      "execution_count": null,
      "outputs": [
        {
          "output_type": "stream",
          "text": [
            "True\n",
            "False\n",
            "True\n"
          ],
          "name": "stdout"
        }
      ]
    },
    {
      "cell_type": "markdown",
      "metadata": {
        "id": "I8AioypfIe17"
      },
      "source": [
        "### 錯誤型態"
      ]
    },
    {
      "cell_type": "code",
      "metadata": {
        "colab": {
          "base_uri": "https://localhost:8080/"
        },
        "id": "gF_BZgE1If1e",
        "outputId": "48fb5746-4614-4c55-c687-aac88e466e48"
      },
      "source": [
        "a=\"10\"\n",
        "print(a*10)"
      ],
      "execution_count": null,
      "outputs": [
        {
          "output_type": "stream",
          "text": [
            "10101010101010101010\n"
          ],
          "name": "stdout"
        }
      ]
    },
    {
      "cell_type": "markdown",
      "metadata": {
        "id": "aO0JlPOfIjsy"
      },
      "source": [
        "### 型態轉換\n",
        "#### 使用型態加()將變數框住"
      ]
    },
    {
      "cell_type": "code",
      "metadata": {
        "colab": {
          "base_uri": "https://localhost:8080/"
        },
        "id": "fNGM5573IkeE",
        "outputId": "180b7711-8570-4ff7-b1aa-9a621fd4b517"
      },
      "source": [
        "a=\"10\"\n",
        "print(type(a))\n",
        "print(type(int(a))) #轉成int\n",
        "print(type(float(a))) #轉成float"
      ],
      "execution_count": null,
      "outputs": [
        {
          "output_type": "stream",
          "text": [
            "<class 'str'>\n",
            "<class 'int'>\n",
            "<class 'float'>\n"
          ],
          "name": "stdout"
        }
      ]
    },
    {
      "cell_type": "markdown",
      "metadata": {
        "id": "Zu0TZ2WiJB-B"
      },
      "source": [
        "#### 字串型態及輸出\n",
        "##### 使用str()將變數轉為字串\n",
        "##### 直接使用+號可將多個字串連起來\n",
        "##### \"{} {}\".format(X,Y)\n",
        "###### 會將format()裡的變數依序放入{}中(輸出：X Y)"
      ]
    },
    {
      "cell_type": "code",
      "metadata": {
        "colab": {
          "base_uri": "https://localhost:8080/"
        },
        "id": "Brb8z1ONJGIP",
        "outputId": "c862bb3a-862e-4b02-a959-b482a335c5dd"
      },
      "source": [
        "a=100*3.14159\n",
        "b=404*101\n",
        "\n",
        "print(\"a=\"+str(a)+\", b=\"+str(b))\n",
        "print(\"a={}, b={}\".format(a,b))"
      ],
      "execution_count": null,
      "outputs": [
        {
          "output_type": "stream",
          "text": [
            "a=314.159, b=40804\n",
            "a=314.159, b=40804\n"
          ],
          "name": "stdout"
        }
      ]
    },
    {
      "cell_type": "markdown",
      "metadata": {
        "id": "gdlAbEiVJN2_"
      },
      "source": [
        "### 非內建模組"
      ]
    },
    {
      "cell_type": "markdown",
      "metadata": {
        "id": "IeJYmkxuJR93"
      },
      "source": [
        "#### pow(x,y)\n",
        "##### 計算x的y次方\n",
        "#### sqrt(x)\n",
        "##### x開平方\n",
        "#### sin(x)\n",
        "##### 計算sin x度角"
      ]
    },
    {
      "cell_type": "code",
      "metadata": {
        "colab": {
          "base_uri": "https://localhost:8080/"
        },
        "id": "ihJjS9D4JNnH",
        "outputId": "f72576f0-5da0-4661-f249-453ac1fb9e04"
      },
      "source": [
        "import math\n",
        "a=4\n",
        "print(math.pow(a,3))\n",
        "print(math.sqrt(a))\n",
        "print(math.pi)\n",
        "print(math.sin(360*0.5*math.pi))"
      ],
      "execution_count": null,
      "outputs": [
        {
          "output_type": "stream",
          "text": [
            "64.0\n",
            "2.0\n",
            "3.141592653589793\n",
            "-7.832787669450353e-15\n"
          ],
          "name": "stdout"
        }
      ]
    },
    {
      "cell_type": "markdown",
      "metadata": {
        "id": "d1iBkcXWJ2kn"
      },
      "source": [
        "### 輸入"
      ]
    },
    {
      "cell_type": "markdown",
      "metadata": {
        "id": "wonWroOtJ7yX"
      },
      "source": [
        "#### 計算圓面積"
      ]
    },
    {
      "cell_type": "code",
      "metadata": {
        "colab": {
          "base_uri": "https://localhost:8080/"
        },
        "id": "xm778rBaKBqc",
        "outputId": "4988d467-140f-4db2-9349-5ca1ced855db"
      },
      "source": [
        "import math\n",
        "r = int(input(\"請輸入圓半徑：\"))\n",
        "print(\"圓面積為：{}\".format(r*r*math.pi))"
      ],
      "execution_count": null,
      "outputs": [
        {
          "output_type": "stream",
          "text": [
            "請輸入圓半徑：41\n",
            "圓面積為：5281.017250684442\n"
          ],
          "name": "stdout"
        }
      ]
    },
    {
      "cell_type": "markdown",
      "metadata": {
        "id": "GFMvPY7xKNcO"
      },
      "source": [
        "#### 計算矩形面積"
      ]
    },
    {
      "cell_type": "code",
      "metadata": {
        "colab": {
          "base_uri": "https://localhost:8080/"
        },
        "id": "xGKfK-10KRle",
        "outputId": "e2dc27bd-03cc-4308-a4cd-bd18da3d10df"
      },
      "source": [
        "a = float(input(\"請輸入長：\"))\n",
        "b = float(input(\"請輸入寬：\"))\n",
        "print(\"矩形面積為：{}\".format(a*b))"
      ],
      "execution_count": null,
      "outputs": [
        {
          "output_type": "stream",
          "text": [
            "請輸入長：15\n",
            "請輸入寬：15\n",
            "矩形面積為：225.0\n"
          ],
          "name": "stdout"
        }
      ]
    }
  ]
}