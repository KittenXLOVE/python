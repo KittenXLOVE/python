{
  "nbformat": 4,
  "nbformat_minor": 0,
  "metadata": {
    "colab": {
      "name": "Chap2.ipynb",
      "provenance": [],
      "collapsed_sections": []
    },
    "kernelspec": {
      "name": "python3",
      "display_name": "Python 3"
    },
    "language_info": {
      "name": "python"
    }
  },
  "cells": [
    {
      "cell_type": "markdown",
      "metadata": {
        "id": "jC7tciPf42MA"
      },
      "source": [
        "# 商用程式設計\n",
        "## 2021/03/19\n",
        "# Chap 2 流程控制"
      ]
    },
    {
      "cell_type": "markdown",
      "metadata": {
        "id": "gWKiIoqOK7h0"
      },
      "source": [
        ""
      ]
    },
    {
      "cell_type": "markdown",
      "metadata": {
        "id": "xMLlQAp2AR_4"
      },
      "source": [
        "### IF & ELIF(else if) & ELSE\n",
        "#### (結尾皆為冒號)\n",
        "#### (其要執行的程式碼需使用縮行區分)"
      ]
    },
    {
      "cell_type": "code",
      "metadata": {
        "colab": {
          "base_uri": "https://localhost:8080/"
        },
        "id": "UJVKWk2_5AC3",
        "outputId": "ffb39ae5-79a5-4eed-fe2a-1bc3595c6292"
      },
      "source": [
        "a=8\n",
        "b=9\n",
        "\n",
        "if a>b: #如果a>b\n",
        "  print(\"a > b\")\n",
        "elif a==b: #或是如果a=b\n",
        "  print(\"a = b\")\n",
        "else: #以上都沒有(a<b)\n",
        "  print(\"a < b\")"
      ],
      "execution_count": null,
      "outputs": [
        {
          "output_type": "stream",
          "text": [
            "a < b\n"
          ],
          "name": "stdout"
        }
      ]
    },
    {
      "cell_type": "code",
      "metadata": {
        "colab": {
          "base_uri": "https://localhost:8080/"
        },
        "id": "zaJtkX62_sOT",
        "outputId": "61966618-2403-49e7-de6c-615154ec3c4a"
      },
      "source": [
        "s=int(input(\"請輸入成績：\"))\n",
        "\n",
        "if s>=90:\n",
        "  print(\"甲等\")\n",
        "elif s>=80:\n",
        "  print(\"乙等\")\n",
        "elif s>=70:\n",
        "  print(\"丙等\")\n",
        "elif s>=60:\n",
        "  print(\"丁等\")\n",
        "else:\n",
        "  print(\"不及格！\")"
      ],
      "execution_count": null,
      "outputs": [
        {
          "output_type": "stream",
          "text": [
            "請輸入成績：0\n",
            "不及格！\n"
          ],
          "name": "stdout"
        }
      ]
    },
    {
      "cell_type": "markdown",
      "metadata": {
        "id": "5I2J1J9xDxba"
      },
      "source": [
        "### 迴圈(For)\n",
        "```\n",
        "for x in y:\n",
        "```\n",
        "##### x值會隨著y的範圍變動"
      ]
    },
    {
      "cell_type": "markdown",
      "metadata": {
        "id": "waFPx9H5KLiq"
      },
      "source": [
        "#### 1+2+3+...+n=?\n",
        "```\n",
        "range(起始值,結束值,間隔) (不包含結束值)\n",
        "```\n",
        "###### 也可省略起始值及間隔\n",
        "```\n",
        "range(結束值) (1~結束值-1)\n",
        "```"
      ]
    },
    {
      "cell_type": "code",
      "metadata": {
        "colab": {
          "base_uri": "https://localhost:8080/"
        },
        "id": "_FN9QSYVCfKw",
        "outputId": "e94db3e6-90a5-46bd-a77c-0612e20cb35d"
      },
      "source": [
        "n=int(input(\"請輸入範圍：\"))+1\n",
        "sum=0\n",
        "\n",
        "for i in range(1,n,1):\n",
        "  sum+=i\n",
        "\n",
        "print(\"結果：{}\".format(sum))"
      ],
      "execution_count": null,
      "outputs": [
        {
          "output_type": "stream",
          "text": [
            "請輸入範圍：10\n",
            "結果：55\n"
          ],
          "name": "stdout"
        }
      ]
    },
    {
      "cell_type": "markdown",
      "metadata": {
        "id": "vPqQRqtIJ_RJ"
      },
      "source": [
        "#### 字串能被拆成一個一個字\n"
      ]
    },
    {
      "cell_type": "code",
      "metadata": {
        "colab": {
          "base_uri": "https://localhost:8080/"
        },
        "id": "EBikVRNrJeA1",
        "outputId": "b1e924e4-d179-4325-ab5b-94549100b0a8"
      },
      "source": [
        "s=\"test text\"\n",
        "\n",
        "for i in s:\n",
        "  print(i)\n",
        "print(\"EOF\")"
      ],
      "execution_count": null,
      "outputs": [
        {
          "output_type": "stream",
          "text": [
            "t\n",
            "e\n",
            "s\n",
            "t\n",
            " \n",
            "t\n",
            "e\n",
            "x\n",
            "t\n",
            "EOF\n"
          ],
          "name": "stdout"
        }
      ]
    },
    {
      "cell_type": "markdown",
      "metadata": {
        "id": "T-9I7ySCKabM"
      },
      "source": [
        "### List(串列)\n",
        "#### 使用[]將零到多個值(使用,分隔)框住，即為一串列"
      ]
    },
    {
      "cell_type": "code",
      "metadata": {
        "colab": {
          "base_uri": "https://localhost:8080/"
        },
        "id": "LnzAOocmJtp3",
        "outputId": "ea9bee57-12f3-4377-fbcc-a81cf8fe75be"
      },
      "source": [
        "s=[\"Apple\",\"Banana\",\"Core\"]\n",
        "for i in s:\n",
        "  print(i)"
      ],
      "execution_count": null,
      "outputs": [
        {
          "output_type": "stream",
          "text": [
            "Apple\n",
            "Banana\n",
            "Core\n"
          ],
          "name": "stdout"
        }
      ]
    },
    {
      "cell_type": "markdown",
      "metadata": {
        "id": "dDj3o0zrMR75"
      },
      "source": [
        "#### 雞兔同籠，有36顆頭以及74隻腳，求雞兔數量？"
      ]
    },
    {
      "cell_type": "code",
      "metadata": {
        "colab": {
          "base_uri": "https://localhost:8080/"
        },
        "id": "HmX4pS5wKjul",
        "outputId": "bc89523f-6551-4a7c-98a0-c8fd46a2abb1"
      },
      "source": [
        "total=36\n",
        "foot=74\n",
        "\n",
        "for i in range(total+1):\n",
        "  if i*2+(total-i)*4==foot:\n",
        "    print(\"雞={},兔={}\".format(i,total-i))\n",
        "    break # 跳出最近的迴圈(此處為for)\n",
        "\n",
        "else: # 此處的else代表在for迴圈中沒有達成條件過\n",
        "  print(\"(無解)\")\n",
        "    "
      ],
      "execution_count": null,
      "outputs": [
        {
          "output_type": "stream",
          "text": [
            "雞=35,兔=1\n"
          ],
          "name": "stdout"
        }
      ]
    },
    {
      "cell_type": "markdown",
      "metadata": {
        "id": "fHVguykqPQrq"
      },
      "source": [
        "### 迴圈(While)\n",
        "```\n",
        "while 條件:\n",
        "```\n",
        "#### 如果條件成立，則繼續執行"
      ]
    },
    {
      "cell_type": "markdown",
      "metadata": {
        "id": "giIJVxjGPVc_"
      },
      "source": [
        "#### 1+2+3+...+N=?"
      ]
    },
    {
      "cell_type": "code",
      "metadata": {
        "colab": {
          "base_uri": "https://localhost:8080/"
        },
        "id": "PZpIchWtPUjx",
        "outputId": "3b08340d-e479-4f33-9816-d3e067b0e460"
      },
      "source": [
        "n=int(input(\"請輸入N：\"))\n",
        "i,sum=1,0\n",
        "while i<=n:\n",
        "  sum+=i\n",
        "  i+=1\n",
        "\n",
        "print(\"結果：{}\".format(sum))"
      ],
      "execution_count": null,
      "outputs": [
        {
          "output_type": "stream",
          "text": [
            "請輸入N：10\n",
            "結果：55\n"
          ],
          "name": "stdout"
        }
      ]
    },
    {
      "cell_type": "markdown",
      "metadata": {
        "id": "_GnFfVdeSTVw"
      },
      "source": [
        "#### 設年利率為0.5%，若存款10000元，求幾年可以翻倍？"
      ]
    },
    {
      "cell_type": "code",
      "metadata": {
        "colab": {
          "base_uri": "https://localhost:8080/"
        },
        "id": "vUOXdbWDSgXx",
        "outputId": "a5852658-1f8e-42f3-d577-06d064cfd846"
      },
      "source": [
        "money=10000\n",
        "year=0\n",
        "while money<20000:\n",
        "  money*=1.005\n",
        "  year+=1\n",
        "\n",
        "print(\"過 {} 年後，即可達到 {} 元。\".format(year,money))"
      ],
      "execution_count": null,
      "outputs": [
        {
          "output_type": "stream",
          "text": [
            "過 139 年後，即可達到 20002.42193612195 元。\n"
          ],
          "name": "stdout"
        }
      ]
    },
    {
      "cell_type": "markdown",
      "metadata": {
        "id": "Fv0HZCL1Zbgw"
      },
      "source": [
        "#### 帳密判別"
      ]
    },
    {
      "cell_type": "code",
      "metadata": {
        "colab": {
          "base_uri": "https://localhost:8080/"
        },
        "id": "l8wtnO0gZh1Y",
        "outputId": "98b7bcd0-f851-4645-f909-e4e4f0f39e52"
      },
      "source": [
        "account=\"test\"\n",
        "password=\"777\"\n",
        "\n",
        "while True:\n",
        "  a=input(\"請輸入帳號：\")\n",
        "  p=input(\"請輸入密碼：\")\n",
        "  if a==account and p==password: #若a符合且p符合\n",
        "    break\n",
        "  else:\n",
        "    print(\"帳號/密碼錯誤！\")\n",
        "\n",
        "print(\"登入成功！\")"
      ],
      "execution_count": null,
      "outputs": [
        {
          "output_type": "stream",
          "text": [
            "請輸入帳號：1\n",
            "請輸入密碼：1\n",
            "帳號/密碼錯誤！\n",
            "請輸入帳號：test\n",
            "請輸入密碼：666\n",
            "帳號/密碼錯誤！\n",
            "請輸入帳號：test\n",
            "請輸入密碼：777\n",
            "登入成功！\n"
          ],
          "name": "stdout"
        }
      ]
    },
    {
      "cell_type": "markdown",
      "metadata": {
        "id": "y8miVs3Ib5nh"
      },
      "source": [
        "### Random 亂數函式庫\n",
        "```\n",
        "random.randint(起始值,結束值)\n",
        "```\n",
        "####亂數產生int"
      ]
    },
    {
      "cell_type": "code",
      "metadata": {
        "colab": {
          "base_uri": "https://localhost:8080/"
        },
        "id": "5Y9ifpv1b83y",
        "outputId": "61f44325-50ee-4ca2-fc26-0fe1c8bcabc8"
      },
      "source": [
        "import random\n",
        "for i in range(11):\n",
        "  print(random.randint(1,10)) #輸出1~10的亂數"
      ],
      "execution_count": null,
      "outputs": [
        {
          "output_type": "stream",
          "text": [
            "3\n",
            "4\n",
            "3\n",
            "1\n",
            "4\n",
            "10\n",
            "7\n",
            "1\n",
            "4\n",
            "1\n",
            "7\n"
          ],
          "name": "stdout"
        }
      ]
    },
    {
      "cell_type": "markdown",
      "metadata": {
        "id": "7bGXRgXqeaGc"
      },
      "source": [
        "#### 猜數字"
      ]
    },
    {
      "cell_type": "code",
      "metadata": {
        "colab": {
          "base_uri": "https://localhost:8080/"
        },
        "id": "L0aEjDFud5N4",
        "outputId": "d04487d5-545b-47fc-fea0-078f99c7fe23"
      },
      "source": [
        "import random\n",
        "ans=random.randint(1,10) #產生1~10的亂數存入變數ans\n",
        "while ans!=int(input(\"請輸入1~10的數字：\")):\n",
        "  print(\"猜錯了喔～\")\n",
        "\n",
        "print(\"猜對了！數字就是{}\".format(ans))"
      ],
      "execution_count": null,
      "outputs": [
        {
          "output_type": "stream",
          "text": [
            "請輸入1~10的數字：1\n",
            "猜錯了喔～\n",
            "請輸入1~10的數字：2\n",
            "猜對了！數字就是2\n"
          ],
          "name": "stdout"
        }
      ]
    }
  ]
}